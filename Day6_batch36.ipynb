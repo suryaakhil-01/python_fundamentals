{
 "cells": [
  {
   "cell_type": "code",
   "execution_count": 1,
   "metadata": {},
   "outputs": [],
   "source": [
    "student=['surya','akhil','anu']"
   ]
  },
  {
   "cell_type": "code",
   "execution_count": 2,
   "metadata": {},
   "outputs": [
    {
     "name": "stdout",
     "output_type": "stream",
     "text": [
      "['surya', 'akhil', 'anu']\n"
     ]
    }
   ],
   "source": [
    "print(student)"
   ]
  },
  {
   "cell_type": "code",
   "execution_count": 3,
   "metadata": {},
   "outputs": [
    {
     "name": "stdout",
     "output_type": "stream",
     "text": [
      "keep up, Akhil\n"
     ]
    }
   ],
   "source": [
    "print (f\"keep up, {student[1].title()}\")"
   ]
  },
  {
   "cell_type": "code",
   "execution_count": 28,
   "metadata": {},
   "outputs": [
    {
     "name": "stdout",
     "output_type": "stream",
     "text": [
      "surya\n",
      "\t\n",
      "akhil\n",
      "\t\n",
      "anu\n",
      "\t\n"
     ]
    }
   ],
   "source": [
    "for x in student:\n",
    "    \n",
    "    print(f\"{x}\\n\\t\")\n",
    "    \n"
   ]
  },
  {
   "cell_type": "code",
   "execution_count": 29,
   "metadata": {},
   "outputs": [
    {
     "name": "stdout",
     "output_type": "stream",
     "text": [
      " Hi, SURYA\n",
      "Have a nice day.surya\n",
      "\n",
      " Hi, AKHIL\n",
      "Have a nice day.akhil\n",
      "\n",
      " Hi, ANU\n",
      "Have a nice day.anu\n",
      "\n"
     ]
    }
   ],
   "source": [
    "for x in student:\n",
    "    \n",
    "    print(f\" Hi, {x.upper()}\")\n",
    "    print(f\"Have a nice day.{x.lower()}\\n\")"
   ]
  },
  {
   "cell_type": "code",
   "execution_count": 38,
   "metadata": {},
   "outputs": [
    {
     "name": "stdout",
     "output_type": "stream",
     "text": [
      " Hi, SURYA\n",
      "Have a nice day.surya\n",
      "Thanks\n",
      " Hi, AKHIL\n",
      "Have a nice day.akhil\n",
      "Thanks\n",
      " Hi, ANU\n",
      "Have a nice day.anu\n",
      "Thanks\n"
     ]
    }
   ],
   "source": [
    "for x in student:\n",
    "    \n",
    "    print(f\" Hi, {x.upper()}\")\n",
    "    print(f\"Have a nice day.{x.lower()}\")\n",
    "    \n",
    "    \n",
    "    print(\"Thanks\")"
   ]
  },
  {
   "cell_type": "code",
   "execution_count": null,
   "metadata": {},
   "outputs": [],
   "source": []
  }
 ],
 "metadata": {
  "kernelspec": {
   "display_name": "Python 3",
   "language": "python",
   "name": "python3"
  },
  "language_info": {
   "codemirror_mode": {
    "name": "ipython",
    "version": 3
   },
   "file_extension": ".py",
   "mimetype": "text/x-python",
   "name": "python",
   "nbconvert_exporter": "python",
   "pygments_lexer": "ipython3",
   "version": "3.8.5"
  }
 },
 "nbformat": 4,
 "nbformat_minor": 4
}

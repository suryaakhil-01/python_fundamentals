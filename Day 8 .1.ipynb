{
 "cells": [
  {
   "cell_type": "code",
   "execution_count": 1,
   "metadata": {},
   "outputs": [],
   "source": [
    "intro={'Name': 'Surya', 'Age': '26', 'field': 'it' }"
   ]
  },
  {
   "cell_type": "code",
   "execution_count": 4,
   "metadata": {},
   "outputs": [
    {
     "name": "stdout",
     "output_type": "stream",
     "text": [
      "Name\n",
      "Surya\n",
      "Age\n",
      "26\n",
      "field\n",
      "it\n"
     ]
    }
   ],
   "source": [
    "for x,y in intro.items():\n",
    "  print(x)\n",
    "  print(y)"
   ]
  },
  {
   "cell_type": "code",
   "execution_count": 8,
   "metadata": {},
   "outputs": [
    {
     "name": "stdout",
     "output_type": "stream",
     "text": [
      "key: Name\n",
      "value: Surya\n",
      "\n",
      "key: Age\n",
      "value: 26\n",
      "\n",
      "key: field\n",
      "value: it\n",
      "\n"
     ]
    }
   ],
   "source": [
    "for x,y in intro.items():\n",
    "  print(f\"key: {x}\")\n",
    "  print(f\"value: {y}\\n\")"
   ]
  },
  {
   "cell_type": "code",
   "execution_count": 10,
   "metadata": {},
   "outputs": [
    {
     "name": "stdout",
     "output_type": "stream",
     "text": [
      "key: Name\n",
      "\n",
      "key: Age\n",
      "\n",
      "key: field\n",
      "\n"
     ]
    }
   ],
   "source": [
    "for s in intro.keys():\n",
    "  print(f\"key: {s}\\n\")\n"
   ]
  },
  {
   "cell_type": "code",
   "execution_count": 16,
   "metadata": {},
   "outputs": [
    {
     "name": "stdout",
     "output_type": "stream",
     "text": [
      "values: Surya\n",
      "\n",
      "values: 26\n",
      "\n",
      "values: it\n",
      "\n"
     ]
    }
   ],
   "source": [
    "for a in intro.values():\n",
    "  print(f\"values: {a}\\n\")\n"
   ]
  },
  {
   "cell_type": "code",
   "execution_count": null,
   "metadata": {},
   "outputs": [],
   "source": [
    "s= input(\"Please enter your pin\")\n",
    "print(f\" Welcome HDFC bank {s}\")"
   ]
  },
  {
   "cell_type": "code",
   "execution_count": null,
   "metadata": {},
   "outputs": [],
   "source": []
  },
  {
   "cell_type": "code",
   "execution_count": null,
   "metadata": {},
   "outputs": [],
   "source": []
  },
  {
   "cell_type": "code",
   "execution_count": null,
   "metadata": {},
   "outputs": [],
   "source": []
  }
 ],
 "metadata": {
  "kernelspec": {
   "display_name": "Python 3",
   "language": "python",
   "name": "python3"
  },
  "language_info": {
   "codemirror_mode": {
    "name": "ipython",
    "version": 3
   },
   "file_extension": ".py",
   "mimetype": "text/x-python",
   "name": "python",
   "nbconvert_exporter": "python",
   "pygments_lexer": "ipython3",
   "version": "3.8.5"
  }
 },
 "nbformat": 4,
 "nbformat_minor": 4
}

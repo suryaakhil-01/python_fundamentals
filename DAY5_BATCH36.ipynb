{
 "cells": [
  {
   "cell_type": "code",
   "execution_count": 2,
   "metadata": {},
   "outputs": [
    {
     "name": "stdout",
     "output_type": "stream",
     "text": [
      "['su', 'ak', 'sn', 'sr', 'mn']\n"
     ]
    }
   ],
   "source": [
    "st=['su','ak','sn','sr','mn']\n",
    "print(st)"
   ]
  },
  {
   "cell_type": "code",
   "execution_count": 3,
   "metadata": {},
   "outputs": [],
   "source": [
    "st.append('us')"
   ]
  },
  {
   "cell_type": "code",
   "execution_count": 4,
   "metadata": {},
   "outputs": [
    {
     "name": "stdout",
     "output_type": "stream",
     "text": [
      "['su', 'ak', 'sn', 'sr', 'mn', 'us']\n"
     ]
    }
   ],
   "source": [
    "print(st)"
   ]
  },
  {
   "cell_type": "code",
   "execution_count": 5,
   "metadata": {},
   "outputs": [
    {
     "name": "stdout",
     "output_type": "stream",
     "text": [
      "['ak', 'mn', 'sn', 'sr', 'su', 'us']\n"
     ]
    }
   ],
   "source": [
    "print(sorted(st))# temp solution which the items will be sorted in alphabetical order"
   ]
  },
  {
   "cell_type": "code",
   "execution_count": 6,
   "metadata": {},
   "outputs": [
    {
     "name": "stdout",
     "output_type": "stream",
     "text": [
      "['su', 'ak', 'sn', 'sr', 'mn', 'us']\n"
     ]
    }
   ],
   "source": [
    "print(st)# when we use sorted whic is temperorary solution, after executing this method the elements in list will be updated as declared order"
   ]
  },
  {
   "cell_type": "code",
   "execution_count": 8,
   "metadata": {},
   "outputs": [
    {
     "name": "stdout",
     "output_type": "stream",
     "text": [
      "['ak', 'mn', 'sn', 'sr', 'su', 'us']\n"
     ]
    }
   ],
   "source": [
    "print(sorted(st))"
   ]
  },
  {
   "cell_type": "code",
   "execution_count": 12,
   "metadata": {},
   "outputs": [
    {
     "name": "stdout",
     "output_type": "stream",
     "text": [
      "['us', 'mn', 'sr', 'sn', 'ak', 'su']\n"
     ]
    }
   ],
   "source": [
    "st.reverse()#method used to reverse the elements in list\n",
    "print(st)"
   ]
  },
  {
   "cell_type": "code",
   "execution_count": 13,
   "metadata": {},
   "outputs": [
    {
     "name": "stdout",
     "output_type": "stream",
     "text": [
      "None\n"
     ]
    }
   ],
   "source": [
    "print(st.reverse())"
   ]
  },
  {
   "cell_type": "code",
   "execution_count": 14,
   "metadata": {},
   "outputs": [
    {
     "name": "stdout",
     "output_type": "stream",
     "text": [
      "['maths', 'eng']\n"
     ]
    }
   ],
   "source": [
    "sub= ['maths','eng','comp','telugu','hindi','sanskri','pet','swimming,sing']\n",
    "print(sub[0:2])"
   ]
  },
  {
   "cell_type": "code",
   "execution_count": 15,
   "metadata": {},
   "outputs": [
    {
     "name": "stdout",
     "output_type": "stream",
     "text": [
      "['eng', 'comp']\n"
     ]
    }
   ],
   "source": [
    "print(sub[1:3])#slicing of lists"
   ]
  },
  {
   "cell_type": "code",
   "execution_count": 17,
   "metadata": {},
   "outputs": [
    {
     "name": "stdout",
     "output_type": "stream",
     "text": [
      "['maths', 'telugu']\n"
     ]
    }
   ],
   "source": [
    "print(sub[0:7:3])"
   ]
  },
  {
   "cell_type": "code",
   "execution_count": 18,
   "metadata": {},
   "outputs": [
    {
     "name": "stdout",
     "output_type": "stream",
     "text": [
      "['maths', 'telugu']\n"
     ]
    }
   ],
   "source": [
    "print(sub[0:7:3])"
   ]
  },
  {
   "cell_type": "code",
   "execution_count": 19,
   "metadata": {},
   "outputs": [
    {
     "name": "stdout",
     "output_type": "stream",
     "text": [
      "['maths', 'eng', 'comp', 'telugu', 'hindi', 'sanskri', 'pet', 'swimming,sing']\n"
     ]
    }
   ],
   "source": [
    "sub= ['maths','eng','comp','telugu','hindi','sanskri','pet','swimming,sing']\n",
    "print(sub)"
   ]
  },
  {
   "cell_type": "code",
   "execution_count": 20,
   "metadata": {},
   "outputs": [
    {
     "name": "stdout",
     "output_type": "stream",
     "text": [
      "['maths', 'telugu', 'pet']\n"
     ]
    }
   ],
   "source": [
    "print(sub[0:7:3])"
   ]
  },
  {
   "cell_type": "code",
   "execution_count": 23,
   "metadata": {},
   "outputs": [
    {
     "name": "stdout",
     "output_type": "stream",
     "text": [
      "['maths', 'telugu', 'pet']\n"
     ]
    }
   ],
   "source": [
    "print(sub[0:9:3])"
   ]
  },
  {
   "cell_type": "code",
   "execution_count": null,
   "metadata": {},
   "outputs": [],
   "source": []
  }
 ],
 "metadata": {
  "kernelspec": {
   "display_name": "Python 3",
   "language": "python",
   "name": "python3"
  },
  "language_info": {
   "codemirror_mode": {
    "name": "ipython",
    "version": 3
   },
   "file_extension": ".py",
   "mimetype": "text/x-python",
   "name": "python",
   "nbconvert_exporter": "python",
   "pygments_lexer": "ipython3",
   "version": "3.8.5"
  }
 },
 "nbformat": 4,
 "nbformat_minor": 4
}

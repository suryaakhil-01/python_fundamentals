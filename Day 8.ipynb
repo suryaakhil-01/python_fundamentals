{
 "cells": [
  {
   "cell_type": "code",
   "execution_count": 4,
   "metadata": {},
   "outputs": [
    {
     "name": "stdout",
     "output_type": "stream",
     "text": [
      "Please enter the movie name \n",
      " Plese select your seat rown1\n",
      " Thanks! Enjoy the movie in you selected seat n1\n"
     ]
    }
   ],
   "source": [
    "ticket = \"Please enter the movie name\"\n",
    "ticket += \" \\n Plese select your seat row\"\n",
    "\n",
    "sel = input(ticket)\n",
    "\n",
    "print(f\" Thanks! Enjoy the movie in you selected seat {sel}\")"
   ]
  },
  {
   "cell_type": "code",
   "execution_count": null,
   "metadata": {},
   "outputs": [],
   "source": []
  }
 ],
 "metadata": {
  "kernelspec": {
   "display_name": "Python 3",
   "language": "python",
   "name": "python3"
  },
  "language_info": {
   "codemirror_mode": {
    "name": "ipython",
    "version": 3
   },
   "file_extension": ".py",
   "mimetype": "text/x-python",
   "name": "python",
   "nbconvert_exporter": "python",
   "pygments_lexer": "ipython3",
   "version": "3.8.5"
  }
 },
 "nbformat": 4,
 "nbformat_minor": 4
}

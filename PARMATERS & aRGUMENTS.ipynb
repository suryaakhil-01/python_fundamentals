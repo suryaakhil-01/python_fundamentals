{
 "cells": [
  {
   "cell_type": "code",
   "execution_count": 9,
   "metadata": {},
   "outputs": [],
   "source": [
    "def describe_pet(animal_type,pet_name):\n",
    "    \n",
    "    print(f\"i have a {animal_type}\")\n",
    "    print(f\" My {animal_type} name is {pet_name}\")\n"
   ]
  },
  {
   "cell_type": "code",
   "execution_count": 6,
   "metadata": {},
   "outputs": [
    {
     "name": "stdout",
     "output_type": "stream",
     "text": [
      "i have a Dog\n",
      "i have a Sunny\n"
     ]
    }
   ],
   "source": [
    "describe_pet('Dog','Sunny')"
   ]
  },
  {
   "cell_type": "code",
   "execution_count": 8,
   "metadata": {},
   "outputs": [
    {
     "name": "stdout",
     "output_type": "stream",
     "text": [
      "i have a Dog\n",
      " my Dog, is Sunny\n"
     ]
    }
   ],
   "source": [
    "describe_pet('Dog','Sunny')"
   ]
  },
  {
   "cell_type": "code",
   "execution_count": 10,
   "metadata": {},
   "outputs": [
    {
     "name": "stdout",
     "output_type": "stream",
     "text": [
      "i have a Dog\n",
      " my Dog name is Sunny\n"
     ]
    }
   ],
   "source": [
    "describe_pet('Dog','Sunny')"
   ]
  },
  {
   "cell_type": "code",
   "execution_count": 15,
   "metadata": {},
   "outputs": [],
   "source": [
    "def intro(name, prof): #positional arugument\n",
    "    print(f\" My name is {name}\")\n",
    "    print(f\" {name} has 2 year experience in {prof}\")"
   ]
  },
  {
   "cell_type": "code",
   "execution_count": 17,
   "metadata": {},
   "outputs": [
    {
     "name": "stdout",
     "output_type": "stream",
     "text": [
      " My name is Surya\n",
      " Surya has 2 year experience in SAP\n"
     ]
    }
   ],
   "source": [
    "intro('Surya','SAP')"
   ]
  },
  {
   "cell_type": "code",
   "execution_count": 18,
   "metadata": {},
   "outputs": [
    {
     "name": "stdout",
     "output_type": "stream",
     "text": [
      "i have a Sunny\n",
      " my Sunny name is Dog\n"
     ]
    }
   ],
   "source": [
    "describe_pet('Sunny', 'Dog')"
   ]
  },
  {
   "cell_type": "code",
   "execution_count": 20,
   "metadata": {},
   "outputs": [
    {
     "name": "stdout",
     "output_type": "stream",
     "text": [
      "i have a Dog\n",
      " my Dog name is Sunny\n"
     ]
    }
   ],
   "source": [
    "describe_pet(pet_name = 'Sunny' , animal_type = 'Dog')# Keyword argument"
   ]
  },
  {
   "cell_type": "code",
   "execution_count": 23,
   "metadata": {},
   "outputs": [],
   "source": [
    "def intro(name, prof = 'SAP'): # Default argument\n",
    "    print(f\" My name is {name}\")\n",
    "    print(f\" {name} has 2 year experience in {prof}\")"
   ]
  },
  {
   "cell_type": "code",
   "execution_count": 28,
   "metadata": {},
   "outputs": [
    {
     "name": "stdout",
     "output_type": "stream",
     "text": [
      " My name is Surya.akhil\n",
      " Surya.akhil has 2 year experience in SAP\n"
     ]
    }
   ],
   "source": [
    "intro('Surya.akhil')"
   ]
  },
  {
   "cell_type": "code",
   "execution_count": null,
   "metadata": {},
   "outputs": [],
   "source": []
  }
 ],
 "metadata": {
  "kernelspec": {
   "display_name": "Python 3",
   "language": "python",
   "name": "python3"
  },
  "language_info": {
   "codemirror_mode": {
    "name": "ipython",
    "version": 3
   },
   "file_extension": ".py",
   "mimetype": "text/x-python",
   "name": "python",
   "nbconvert_exporter": "python",
   "pygments_lexer": "ipython3",
   "version": "3.8.5"
  }
 },
 "nbformat": 4,
 "nbformat_minor": 4
}
